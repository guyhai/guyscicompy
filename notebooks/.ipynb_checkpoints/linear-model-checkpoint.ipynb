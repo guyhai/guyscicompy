{
 "cells": [
  {
   "cell_type": "markdown",
   "metadata": {},
   "source": [
    "# Linear Model\n",
    "\n",
    "## [Scientific Computing with Python](http://scicompy.yoavram.com)\n",
    "## Yoav Ram\n",
    "\n",
    "In this session we will understand:\n",
    "- how linear models can be used to predict or interpolate data\n",
    "- how to fit linear models to data using maximum likelihood and gradient descent\n",
    "- how to visualize scatterplots, linear models, and histograms\n",
    "- the basics of pandas, matplotlib, and seaborn\n",
    "- how to download and open zip files"
   ]
  },
  {
   "cell_type": "code",
   "execution_count": 1,
   "metadata": {},
   "outputs": [],
   "source": [
    "import urllib.request\n",
    "import os\n",
    "import zipfile\n",
    "\n",
    "%matplotlib inline\n",
    "import matplotlib.pyplot as plt\n",
    "import numpy as np\n",
    "import pandas as pd\n",
    "import scipy.stats\n",
    "import scipy.optimize\n",
    "import seaborn as sns"
   ]
  },
  {
   "cell_type": "markdown",
   "metadata": {},
   "source": [
    "# Download & unzip data\n",
    "\n",
    "Let's download some tennis data so that we can talk about *linear regression*.\n",
    "\n",
    "Start by downloading the data from the [IPython Cookbook: example data](https://github.com/ipython-books/cookbook-data) repo.\n",
    "`urllib.request.urlretrieve` is a function for downloading a file -- similar to `wget`.\n",
    "\n",
    "Notes:\n",
    "- don't use `urllib` for writing HTTP client, instead use the wonderful [`requests`](http://python-requests.org) package.\n",
    "- `os.path.exists` checks for the existence of a file or folder. The [`os.path`](https://docs.python.org/3/library/os.path.html) module has other useful functions, for example, `join` for joining elements of a path. There's also the [`shutil`](https://docs.python.org/3/library/shutil.html) module."
   ]
  },
  {
   "cell_type": "code",
   "execution_count": 2,
   "metadata": {},
   "outputs": [],
   "source": [
    "url = 'https://github.com/ipython-books/cookbook-data/raw/master/tennis.zip'\n",
    "filename = '../data/tennis.zip'\n",
    "if not os.path.exists('../data'):\n",
    "    os.mkdir('../data')\n",
    "if not os.path.exists(filename):\n",
    "    urllib.request.urlretrieve(url, filename)"
   ]
  },
  {
   "cell_type": "markdown",
   "metadata": {},
   "source": [
    "Now open zip file and print its contents.\n",
    "\n",
    "Note: [`zipfile`](https://docs.python.org/3/library/zipfile.html) is part of Python standard library, which also includes modules for [`gzip`](https://docs.python.org/3/library/gzip.html), [`bz2`](https://docs.python.org/3/library/bz2.html) and other compression formats."
   ]
  },
  {
   "cell_type": "code",
   "execution_count": 3,
   "metadata": {},
   "outputs": [
    {
     "name": "stdout",
     "output_type": "stream",
     "text": [
      "data/Andy-Murray.csv\n",
      "data/Novak-Djokovic.csv\n",
      "data/Rafael-Nadal.csv\n",
      "data/Roger-Federer.csv\n"
     ]
    }
   ],
   "source": [
    "tennis_zip = zipfile.ZipFile(filename)\n",
    "for f in tennis_zip.filelist: \n",
    "    print(f.filename)"
   ]
  },
  {
   "cell_type": "markdown",
   "metadata": {},
   "source": [
    "So we have CSV files for Tennis' [Big Four](https://en.wikipedia.org/wiki/Big_Four_%28tennis%29).\n",
    "\n",
    "We can open CSV files with the standard library's [`csv`](https://docs.python.org/3/library/csv.html) module, but it is much more convinient to use Pandas."
   ]
  },
  {
   "cell_type": "markdown",
   "metadata": {},
   "source": [
    "# Pandas and Data Frames"
   ]
  },
  {
   "cell_type": "markdown",
   "metadata": {},
   "source": [
    "[![Pandas banner](http://pandas.pydata.org/_static/pandas_logo.png)](http://pandas.pydata.org/)\n",
    "\n",
    "_Pandas_ is a very strong library for manipulation large and complex datasets using a new data structure, the **data frame**.\n",
    "Pandas helps to close the gap between Python and R for data analysis and statistical computing.\n",
    "\n",
    "Pandas data frames address three deficiencies of NumPy arrays:\n",
    "- they hold heterogenous data; each column can have its own numpy.dtype,\n",
    "- the axes of a DataFrame are labeled with column names and row indices,\n",
    "- and, they account for missing values which this is not directly supported by arrays.\n",
    "\n",
    "Data frames are extremely useful for data munging.\n",
    "They provide a large range of operations such as filter, join, and group-by aggregation, as well as plotting.\n",
    "\n",
    "The hard work here is done with `pd.read_csv`.\n",
    "\n",
    "Notes:\n",
    "- `pd` is the common abbreviation for `pandas`\n",
    "- Pandas has many `read_xxx` function, including ones for Excel files and SQL databases\n",
    "- Dataframes have a method `head` (`tail`) that returns the first (last) 5 rows\n",
    "- Read more about how data frames can be used to create clean data sets in Jean-Nicholas Hould's [Pythonic version](http://www.jeannicholashould.com/tidy-data-in-python.html) of Hadley Wickham's [tidydata paper](http://vita.had.co.nz/papers/tidy-data.pdf) which uses Pandas' data frames\n",
    "- [`str.format`](https://docs.python.org/3.6/library/string.html#format-string-syntax) is the modern way to fromat strings in Python"
   ]
  },
  {
   "cell_type": "code",
   "execution_count": 4,
   "metadata": {},
   "outputs": [
    {
     "data": {
      "text/html": [
       "<div>\n",
       "<style scoped>\n",
       "    .dataframe tbody tr th:only-of-type {\n",
       "        vertical-align: middle;\n",
       "    }\n",
       "\n",
       "    .dataframe tbody tr th {\n",
       "        vertical-align: top;\n",
       "    }\n",
       "\n",
       "    .dataframe thead th {\n",
       "        text-align: right;\n",
       "    }\n",
       "</style>\n",
       "<table border=\"1\" class=\"dataframe\">\n",
       "  <thead>\n",
       "    <tr style=\"text-align: right;\">\n",
       "      <th></th>\n",
       "      <th>year</th>\n",
       "      <th>tournament</th>\n",
       "      <th>start date</th>\n",
       "      <th>type</th>\n",
       "      <th>surface</th>\n",
       "      <th>draw</th>\n",
       "      <th>atp points</th>\n",
       "      <th>atp ranking</th>\n",
       "      <th>tournament prize money</th>\n",
       "      <th>round</th>\n",
       "      <th>...</th>\n",
       "      <th>player2 2nd serve return points total</th>\n",
       "      <th>player2 break points converted won</th>\n",
       "      <th>player2 break points converted total</th>\n",
       "      <th>player2 return games played</th>\n",
       "      <th>player2 total service points won</th>\n",
       "      <th>player2 total service points total</th>\n",
       "      <th>player2 total return points won</th>\n",
       "      <th>player2 total return points total</th>\n",
       "      <th>player2 total points won</th>\n",
       "      <th>player2 total points total</th>\n",
       "    </tr>\n",
       "  </thead>\n",
       "  <tbody>\n",
       "    <tr>\n",
       "      <th>0</th>\n",
       "      <td>2003</td>\n",
       "      <td>Serbia F6, Beograd</td>\n",
       "      <td>28.07.2003</td>\n",
       "      <td>FU</td>\n",
       "      <td>Outdoor: Clay</td>\n",
       "      <td>Draw: 32</td>\n",
       "      <td>4</td>\n",
       "      <td>709.0</td>\n",
       "      <td>$480</td>\n",
       "      <td>R32</td>\n",
       "      <td>...</td>\n",
       "      <td>NaN</td>\n",
       "      <td>NaN</td>\n",
       "      <td>NaN</td>\n",
       "      <td>NaN</td>\n",
       "      <td>NaN</td>\n",
       "      <td>NaN</td>\n",
       "      <td>NaN</td>\n",
       "      <td>NaN</td>\n",
       "      <td>NaN</td>\n",
       "      <td>NaN</td>\n",
       "    </tr>\n",
       "    <tr>\n",
       "      <th>1</th>\n",
       "      <td>2003</td>\n",
       "      <td>Serbia F6, Beograd</td>\n",
       "      <td>28.07.2003</td>\n",
       "      <td>FU</td>\n",
       "      <td>Outdoor: Clay</td>\n",
       "      <td>Draw: 32</td>\n",
       "      <td>4</td>\n",
       "      <td>709.0</td>\n",
       "      <td>$480</td>\n",
       "      <td>R16</td>\n",
       "      <td>...</td>\n",
       "      <td>NaN</td>\n",
       "      <td>NaN</td>\n",
       "      <td>NaN</td>\n",
       "      <td>NaN</td>\n",
       "      <td>NaN</td>\n",
       "      <td>NaN</td>\n",
       "      <td>NaN</td>\n",
       "      <td>NaN</td>\n",
       "      <td>NaN</td>\n",
       "      <td>NaN</td>\n",
       "    </tr>\n",
       "    <tr>\n",
       "      <th>2</th>\n",
       "      <td>2003</td>\n",
       "      <td>Serbia F6, Beograd</td>\n",
       "      <td>28.07.2003</td>\n",
       "      <td>FU</td>\n",
       "      <td>Outdoor: Clay</td>\n",
       "      <td>Draw: 32</td>\n",
       "      <td>4</td>\n",
       "      <td>709.0</td>\n",
       "      <td>$480</td>\n",
       "      <td>Q</td>\n",
       "      <td>...</td>\n",
       "      <td>NaN</td>\n",
       "      <td>NaN</td>\n",
       "      <td>NaN</td>\n",
       "      <td>NaN</td>\n",
       "      <td>NaN</td>\n",
       "      <td>NaN</td>\n",
       "      <td>NaN</td>\n",
       "      <td>NaN</td>\n",
       "      <td>NaN</td>\n",
       "      <td>NaN</td>\n",
       "    </tr>\n",
       "    <tr>\n",
       "      <th>3</th>\n",
       "      <td>2003</td>\n",
       "      <td>Serbia F6, Beograd</td>\n",
       "      <td>28.07.2003</td>\n",
       "      <td>FU</td>\n",
       "      <td>Outdoor: Clay</td>\n",
       "      <td>Draw: 32</td>\n",
       "      <td>4</td>\n",
       "      <td>709.0</td>\n",
       "      <td>$480</td>\n",
       "      <td>S</td>\n",
       "      <td>...</td>\n",
       "      <td>NaN</td>\n",
       "      <td>NaN</td>\n",
       "      <td>NaN</td>\n",
       "      <td>NaN</td>\n",
       "      <td>NaN</td>\n",
       "      <td>NaN</td>\n",
       "      <td>NaN</td>\n",
       "      <td>NaN</td>\n",
       "      <td>NaN</td>\n",
       "      <td>NaN</td>\n",
       "    </tr>\n",
       "    <tr>\n",
       "      <th>4</th>\n",
       "      <td>2003</td>\n",
       "      <td>Serbia F5, Beograd</td>\n",
       "      <td>21.07.2003</td>\n",
       "      <td>FU</td>\n",
       "      <td>Outdoor: Clay</td>\n",
       "      <td>Draw: 32</td>\n",
       "      <td>NaN</td>\n",
       "      <td>774.0</td>\n",
       "      <td>$118</td>\n",
       "      <td>R32</td>\n",
       "      <td>...</td>\n",
       "      <td>NaN</td>\n",
       "      <td>NaN</td>\n",
       "      <td>NaN</td>\n",
       "      <td>NaN</td>\n",
       "      <td>NaN</td>\n",
       "      <td>NaN</td>\n",
       "      <td>NaN</td>\n",
       "      <td>NaN</td>\n",
       "      <td>NaN</td>\n",
       "      <td>NaN</td>\n",
       "    </tr>\n",
       "  </tbody>\n",
       "</table>\n",
       "<p>5 rows × 70 columns</p>\n",
       "</div>"
      ],
      "text/plain": [
       "   year          tournament  start date type        surface      draw  \\\n",
       "0  2003  Serbia F6, Beograd  28.07.2003   FU  Outdoor: Clay  Draw: 32   \n",
       "1  2003  Serbia F6, Beograd  28.07.2003   FU  Outdoor: Clay  Draw: 32   \n",
       "2  2003  Serbia F6, Beograd  28.07.2003   FU  Outdoor: Clay  Draw: 32   \n",
       "3  2003  Serbia F6, Beograd  28.07.2003   FU  Outdoor: Clay  Draw: 32   \n",
       "4  2003  Serbia F5, Beograd  21.07.2003   FU  Outdoor: Clay  Draw: 32   \n",
       "\n",
       "  atp points  atp ranking tournament prize money round  \\\n",
       "0          4        709.0                   $480   R32   \n",
       "1          4        709.0                   $480   R16   \n",
       "2          4        709.0                   $480     Q   \n",
       "3          4        709.0                   $480     S   \n",
       "4        NaN        774.0                   $118   R32   \n",
       "\n",
       "             ...             player2 2nd serve return points total  \\\n",
       "0            ...                                               NaN   \n",
       "1            ...                                               NaN   \n",
       "2            ...                                               NaN   \n",
       "3            ...                                               NaN   \n",
       "4            ...                                               NaN   \n",
       "\n",
       "  player2 break points converted won player2 break points converted total  \\\n",
       "0                                NaN                                  NaN   \n",
       "1                                NaN                                  NaN   \n",
       "2                                NaN                                  NaN   \n",
       "3                                NaN                                  NaN   \n",
       "4                                NaN                                  NaN   \n",
       "\n",
       "  player2 return games played player2 total service points won  \\\n",
       "0                         NaN                              NaN   \n",
       "1                         NaN                              NaN   \n",
       "2                         NaN                              NaN   \n",
       "3                         NaN                              NaN   \n",
       "4                         NaN                              NaN   \n",
       "\n",
       "  player2 total service points total  player2 total return points won  \\\n",
       "0                                NaN                              NaN   \n",
       "1                                NaN                              NaN   \n",
       "2                                NaN                              NaN   \n",
       "3                                NaN                              NaN   \n",
       "4                                NaN                              NaN   \n",
       "\n",
       "  player2 total return points total player2 total points won  \\\n",
       "0                               NaN                      NaN   \n",
       "1                               NaN                      NaN   \n",
       "2                               NaN                      NaN   \n",
       "3                               NaN                      NaN   \n",
       "4                               NaN                      NaN   \n",
       "\n",
       "  player2 total points total  \n",
       "0                        NaN  \n",
       "1                        NaN  \n",
       "2                        NaN  \n",
       "3                        NaN  \n",
       "4                        NaN  \n",
       "\n",
       "[5 rows x 70 columns]"
      ]
     },
     "execution_count": 4,
     "metadata": {},
     "output_type": "execute_result"
    }
   ],
   "source": [
    "player = 'Novak Djokovic'\n",
    "path = 'data/{}.csv'\n",
    "path = path.format(player.replace(' ', '-'))\n",
    "with tennis_zip.open(path) as f:\n",
    "    df = pd.read_csv(f)\n",
    "df.head()"
   ]
  },
  {
   "cell_type": "markdown",
   "metadata": {},
   "source": [
    "# Plotting\n",
    "\n",
    "Plotting is done by calling functions from the `plot` attribute of the dataframe, but the underlying mechanism is at work is *matplotlib*, the fundamental Python plotting library.\n",
    "To get matplotlib to display plots in the notebook, we have to call the [notebook magic command](http://ipython.readthedocs.io/en/stable/interactive/magics.html?highlight=magic) `%matplotlib inline`."
   ]
  },
  {
   "cell_type": "markdown",
   "metadata": {},
   "source": [
    "`hist` plots a histogram - the frequency of each unique value - for specific columns (or `pd.Series`).\n",
    "\n",
    "We can extract specific columns from this table using [square brackets](https://docs.python.org/3/reference/datamodel.html#object.__getitem__) with string indices. \n",
    "[Similarly](https://docs.python.org/3/reference/datamodel.html#object.__setitem__), we can create new columns."
   ]
  },
  {
   "cell_type": "code",
   "execution_count": 69,
   "metadata": {},
   "outputs": [
    {
     "data": {
      "image/png": "[encoded data removed]",
      "text/plain": [
       "<matplotlib.figure.Figure at 0x11669d898>"
      ]
     },
     "metadata": {},
     "output_type": "display_data"
    }
   ],
   "source": [
    "fig, axes = plt.subplots(1, 2, sharey=True)\n",
    "df['player1 aces'].plot.hist(ax=axes[0], title='aces')\n",
    "df['player1 total points won'].plot.hist(color='#dd2222', \n",
    "                                           ax=axes[1], title='total points');"
   ]
  },
  {
   "cell_type": "markdown",
   "metadata": {},
   "source": [
    "## Exercise: plotting\n",
    "\n",
    "Now let's plot the points won vs points aced to try and see if one can explain the other.\n",
    "\n",
    "`scatter(x, y)` creates a scatterplot with columns `x` and `y` on axes x and y. \n",
    "\n",
    "\n",
    "Bonus points: `marker` and `alpha` keyword arguments control the marker shape and the transparency, use these arguments to plot with `.` instead of the default `o` and with tranparancy of 3/4.\n",
    "\n",
    "Many more options are available through this [Pandas plotting API](http://pandas.pydata.org/pandas-docs/stable/visualization.html)."
   ]
  },
  {
   "cell_type": "code",
   "execution_count": null,
   "metadata": {},
   "outputs": [],
   "source": []
  },
  {
   "cell_type": "markdown",
   "metadata": {},
   "source": [
    "# Linear model\n",
    "\n",
    "Can the number of aces by Novak provide a good predictor of the number of points he won?\n",
    "\n",
    "The simplest model for such predictions is the linear model\n",
    "$$\n",
    "\\widehat{y} = ax + b\n",
    "$$\n",
    "where here $x$ is the aces and $y$ is the points won.\n",
    "The model parameters can be interpreted as follows:\n",
    "- the intercept $b$ is the estimate for points won if 0 points were aced, and\n",
    "- the slope $a$ is the estimate for the linear increase in points won for every additional ace.\n",
    "\n",
    "How do we find suitable $a$ and $b$?\n",
    "For a given $a$ and $b$, we mark the real points won as $y$ and calculate the distance between the predictions and the observed values.\n",
    "We plot a histogram of these differences, called [residuals](https://en.wikipedia.org/wiki/Errors_and_residuals).\n",
    "Here, `bins` controls the number (if `int`) or locations (if `list`) of the histogram bins."
   ]
  },
  {
   "cell_type": "code",
   "execution_count": 70,
   "metadata": {},
   "outputs": [
    {
     "data": {
      "image/png": "[encoded data removed]",
      "text/plain": [
       "<matplotlib.figure.Figure at 0x1154f9c18>"
      ]
     },
     "metadata": {},
     "output_type": "display_data"
    }
   ],
   "source": [
    "a = 1\n",
    "b = 0\n",
    "\n",
    "x = df['player1 aces']\n",
    "y = df['player1 total points won']\n",
    "\n",
    "yhat = a * x + b\n",
    "residuals = yhat - y\n",
    "\n",
    "residuals.plot.hist(bins=50)\n",
    "plt.xlabel('residuals');"
   ]
  },
  {
   "cell_type": "markdown",
   "metadata": {},
   "source": [
    "# Maximum likelihood & least squares\n",
    "\n",
    "In the simplest form of linear modeling, we assume that the residuals (the distance between our prediction and the observed values) has a [normal (or Gaussian) distribution](https://en.wikipedia.org/wiki/Normal_distribution). \n",
    "However, this assumption is not a must, and the framework of [generalized linear models](https://en.wikipedia.org/wiki/Generalized_linear_model) allow us to replace the normal distribution with other distributions such as the binomial distribution (which might be more suitable in this case, in which y values are integers).\n",
    "We'll talk about it again later.\n",
    "\n",
    "Usually, when we speak about probabilities, we ask *\"what is the probability to see this data given this model\"* - when I say \"model\" I mean something like $y=ax+b$ with given values for $a$ and $b$, such as $a=1$ and $b=0$, and a normal distribution of errors, $\\widehat{y}-y \\sim Normal(0, \\sigma^2)$ where $\\sigma^2$ is the variance of the distribution.\n",
    "That is, we want to say something about expected data given a model.\n",
    "\n",
    "For example, given this model ($y=x$), if $x=1$ then the probability for $y=1.1$ is:\n",
    "$$\n",
    "f(0.1) = \\frac{1}{\\sqrt{2 \\pi \\sigma^2}} exp\\bigg(-\\frac{0.1^2}{2\\sigma^2}\\bigg),\n",
    "$$\n",
    "and in general, the probability for a deviance of size $\\widehat{y}-y$ is\n",
    "$$\n",
    "f(z) = \\frac{1}{\\sqrt{2 \\pi \\sigma^2}} exp\\bigg(-\\frac{(\\widehat{y}-y)^2}{2\\sigma^2}).\n",
    "$$\n",
    "\n",
    "But in cases where we have data and we try to say something about the expected model given observed data.\n",
    "This is where *likelihood* comes into place, and its definition is straight-forward:\n",
    "The likelihood of the model $ax+b - \\widehat{y} \\sim Normal(0, \\sigma^2)$ given observed data $(x,y)$ is the probability of seeing data $(x,y)$ given the model $ax+b - \\widehat{y} \\sim Normal(0, \\sigma^2)$.\n",
    "If we have mutliple data points (we do!) we just multiply all of them under the assumption that each data point (here, game point, so.. confusing) is *independent* (in the probability sense of independence, that is, knowing what happened in one of them doesn't change the probability of the other one occuring).\n",
    "\n",
    "So the likelihood of the model $ax+b - \\widehat{y} \\sim Normal(0, \\sigma^2)$ given data points $(x_i, y_i)$, where $i$ indexes the point, is\n",
    "$$\n",
    "\\mathbf{L}(a,b | x_i, y_i) = (2 \\pi \\sigma^2)^{-n/2} \\prod_{i=1}^{n}{ exp\\bigg(-\\frac{(ax_i+b-y_i)^2}{2\\sigma^2}\\bigg)}\n",
    "$$"
   ]
  },
  {
   "cell_type": "markdown",
   "metadata": {},
   "source": [
    "After establishing what likelihood is, we can ask \"what are the parameters $a$ and $b$ that maximize the model likelihood. \n",
    "This is akin to asking what are $a$ and $b$ for which the probability of seeing the data we saw is maximized.\n",
    "This approach is called **maximum likelihood**.\n",
    "\n",
    "Now, our likelihood $\\mathbf{L}$ is a product of exponents, so we can take the log-likelihood (literally the log of the likelihood) to get a simpler expression\n",
    "$$\n",
    "\\log\\mathbf{L} = \\\\\n",
    "\\log (2 \\pi \\sigma^2)^{-n/2} + \\log{\\prod_{i=1}^{n}{ exp\\bigg(-\\frac{(ax_i+b-y_i)^2}{2\\sigma^2}\\bigg)}} = \\\\\n",
    "-\\frac{n}{2}\\log{(2 \\pi \\sigma^2)} + \\sum_{i=1}^{n}{-\\frac{(ax_i+b-y_i)^2}{2\\sigma^2}} = \\\\\n",
    "-\\frac{n}{2}\\log{(2 \\pi \\sigma^2)} - \\frac{1}{2\\sigma^2} \\sum_{i=1}^{n}{(ax_i+b-y_i)^2}\n",
    "$$\n",
    "\n",
    "Note that \n",
    "- $\\log{\\mathbf{L}}$ is an increasing function of $\\mathbf{L}$ so maximizing the log-likelihood is equivalent to maximizing the likelihood\n",
    "- $a$ and $b$ only appear in the sum-of-squares, which is prepended by a negative sign, so minimizing the sum-of-squares is equivalent to maximizing the log-likelihood\n",
    "- if we only care about the best estimate of $a$ and $b$ then we don't really care about the variance $\\sigma^2$ (we would care if we wanted to have some statistical measure of precision or confidence)\n",
    "\n",
    "This is where the **least squares** approach comes from -- when assuming a model with normal distribution of residuals, maximizing the likelihood is equivalent to minimizing the sum-of-squares of the residials, or the deviances between the model prediction $\\widehat{y}$ and the truth $y$.\n",
    "Note that this works with non-linear models just the same, as long as the residuals are normally and independently distributed."
   ]
  },
  {
   "cell_type": "markdown",
   "metadata": {},
   "source": [
    "In ths case of a linear model there is a formula to find $a$ and $\\sigma^2$ when $b=0$, but since we will later deal with cases in which there is no formula, let's continue as if there is no formula.\n",
    "\n",
    "Let's calculate the sum-of-squares. \n",
    "Note that Pandas aggregation methods (such as `sum` or `mean`) ignore NaN values, but this is not always the case in other numerical packages."
   ]
  },
  {
   "cell_type": "code",
   "execution_count": 71,
   "metadata": {},
   "outputs": [
    {
     "data": {
      "text/plain": [
       "3942816.0"
      ]
     },
     "execution_count": 71,
     "metadata": {},
     "output_type": "execute_result"
    }
   ],
   "source": [
    "(residuals**2).sum()"
   ]
  },
  {
   "cell_type": "markdown",
   "metadata": {},
   "source": [
    "## Exercise: sumsquares\n",
    "\n",
    "Write a function that calculates the sum-of-squares for some $a$ and $b$ values and the data $x,y$:"
   ]
  },
  {
   "cell_type": "code",
   "execution_count": null,
   "metadata": {},
   "outputs": [],
   "source": []
  },
  {
   "cell_type": "markdown",
   "metadata": {},
   "source": [
    "Now we would like to find $a$ and $b$ that minimize the function `sumsquares`.\n",
    "\n",
    "# Gradient descent\n",
    "\n",
    "One way to do this is with *gradient descent*.\n",
    "This is an iterative algorithm.\n",
    "In each step, we calculate that gradient of the function respect to $a$ and $b$ (the gradient is just the vector of derivatives):\n",
    "$$\n",
    "\\frac{d\\Sigma}{da} = \\sum_{i=1}^{n}{2ax^2 +2bx -2xy} \\\\\n",
    "\\frac{d\\Sigma}{db} = \\sum_{i=1}^{n}{2ax +2b-2y} \\\\\n",
    "$$\n",
    "and \"descend\" (minimize) the function just a tiny bit by updating $a$ and $b$ in the oppositve direction of the gradient:\n",
    "$$\n",
    "a_t = a_{t-1} - \\frac{d\\Sigma}{da} \\eta \\\\ \n",
    "b_t = b_{t-1} - \\frac{d\\Sigma}{db} \\eta \\\\ \n",
    "$$\n",
    "where $\\eta$ is the size of the step we take (the \"tiny bit\"), also sometimes called the *learning rate*. We'll talk later about methods in which this rate can be learned or adjusted over time.\n",
    "\n",
    "Let's try it!\n"
   ]
  },
  {
   "cell_type": "code",
   "execution_count": 72,
   "metadata": {},
   "outputs": [],
   "source": [
    "def gradient_descent(a, b, x, y, eta=0.00001):\n",
    "    dyda = (2*a*x**2 + 2*b*x -2*x*y).sum()\n",
    "    dydb = (2*a*x + 2*b - 2*y).sum()\n",
    "    return a - eta * dyda, b - eta * dydb"
   ]
  },
  {
   "cell_type": "markdown",
   "metadata": {},
   "source": [
    "The last technical details is the stopping condition.\n",
    "We'll set the gradient descent to stop when the relative difference between the sum of squares of two iterations is less than 0.01."
   ]
  },
  {
   "cell_type": "code",
   "execution_count": 73,
   "metadata": {},
   "outputs": [],
   "source": [
    "def linear_model(x, y, a=0, b=0, rel_err=1e-2):    \n",
    "    t = 0\n",
    "    S_, S = np.inf, 0\n",
    "    while abs(S - S_) > rel_err:\n",
    "        t += 1\n",
    "        a, b = gradient_descent(a, b, x, y)\n",
    "        if t % 100 == 0:            \n",
    "            S_, S = S, sumsquares(a, b, x, y)\n",
    "            print(\"{}: S={:.6f}, a={:.4f}, b={:.4f}\".format(t, S, a, b))\n",
    "    return a, b"
   ]
  },
  {
   "cell_type": "code",
   "execution_count": 75,
   "metadata": {},
   "outputs": [
    {
     "name": "stdout",
     "output_type": "stream",
     "text": [
      "100: S=734376.862702, a=9.4985, b=19.4026\n",
      "200: S=564584.058417, a=7.8145, b=32.2764\n",
      "300: S=476309.394005, a=6.6002, b=41.5589\n",
      "400: S=430415.715471, a=5.7246, b=48.2519\n",
      "500: S=406555.758105, a=5.0933, b=53.0779\n",
      "600: S=394151.052627, a=4.6381, b=56.5576\n",
      "700: S=387701.891146, a=4.3099, b=59.0665\n",
      "800: S=384348.995434, a=4.0732, b=60.8756\n",
      "900: S=382605.837088, a=3.9026, b=62.1800\n",
      "1000: S=381699.575373, a=3.7795, b=63.1206\n",
      "1100: S=381228.413187, a=3.6908, b=63.7987\n",
      "1200: S=380983.457673, a=3.6269, b=64.2877\n",
      "1300: S=380856.106187, a=3.5807, b=64.6403\n",
      "1400: S=380789.896610, a=3.5475, b=64.8945\n",
      "1500: S=380755.474491, a=3.5235, b=65.0778\n",
      "1600: S=380737.578556, a=3.5062, b=65.2100\n",
      "1700: S=380728.274524, a=3.4938, b=65.3053\n",
      "1800: S=380723.437392, a=3.4848, b=65.3740\n",
      "1900: S=380720.922584, a=3.4783, b=65.4235\n",
      "2000: S=380719.615144, a=3.4736, b=65.4592\n",
      "2100: S=380718.935411, a=3.4702, b=65.4850\n",
      "2200: S=380718.582021, a=3.4678, b=65.5036\n",
      "2300: S=380718.398294, a=3.4661, b=65.5170\n",
      "2400: S=380718.302775, a=3.4648, b=65.5266\n",
      "2500: S=380718.253116, a=3.4639, b=65.5336\n",
      "2600: S=380718.227298, a=3.4632, b=65.5386\n",
      "2700: S=380718.213875, a=3.4628, b=65.5422\n",
      "2800: S=380718.206896, a=3.4624, b=65.5448\n"
     ]
    }
   ],
   "source": [
    "a, b = linear_model(x, y)"
   ]
  },
  {
   "cell_type": "markdown",
   "metadata": {},
   "source": [
    "# Plot and interpret a linear model"
   ]
  },
  {
   "cell_type": "markdown",
   "metadata": {},
   "source": [
    "Let's plot the results.\n",
    "We now load the [matplotlib](http://matplotlib.org) library to use it to plot a straight line over the scatterplot. Note that we sort the x values first otherwise the straight line will zigzag over the plot."
   ]
  },
  {
   "cell_type": "code",
   "execution_count": 76,
   "metadata": {},
   "outputs": [
    {
     "name": "stdout",
     "output_type": "stream",
     "text": [
      "a=3.462412091384354, b=65.54483381549923\n"
     ]
    },
    {
     "data": {
      "image/png": "[encoded data removed]",
      "text/plain": [
       "<matplotlib.figure.Figure at 0x116bfd2e8>"
      ]
     },
     "metadata": {},
     "output_type": "display_data"
    }
   ],
   "source": [
    "def plot_linear_model(a, b, x, y, **plot_kws):\n",
    "    plt.scatter(x, y, marker='.', alpha=0.75)\n",
    "    x_ = x.sort_values()\n",
    "    plt.plot(x_, a * x_ + b, '-r', **plot_kws)\n",
    "    plt.xlabel('aces')\n",
    "    plt.ylabel('total points won')\n",
    "    print(\"a={}, b={}\".format(a, b))\n",
    "    \n",
    "plot_linear_model(a, b, x, y);"
   ]
  },
  {
   "cell_type": "markdown",
   "metadata": {},
   "source": [
    "The results can be interpreted as follows\n",
    "- without any aces, Novak wins ~65 points. \n",
    "- for any additional ace, he wins an additional ~3.5 point (more than the one point given by the ace)\n",
    "\n",
    "This model will probably do a good job at *interpolation*, that is estimating $\\widehat{y}$ for $x$ values that are within the original $x$ values, but not at *extrapolation*.\n",
    "For example, if Novak aces all the points in a game, he can't wint 3.5 times the points he aced!"
   ]
  },
  {
   "cell_type": "markdown",
   "metadata": {},
   "source": [
    "# Outliers"
   ]
  },
  {
   "cell_type": "markdown",
   "metadata": {},
   "source": [
    "There are some point that might be outliers - all those games with more than 15 aces. \n",
    "It's important to check how much they affect the results.\n",
    "\n",
    "Let's slice $x$ and $y$ to take only those games with less than 15 aces."
   ]
  },
  {
   "cell_type": "code",
   "execution_count": 77,
   "metadata": {},
   "outputs": [],
   "source": [
    "y_ = y[x < 15]\n",
    "x_ = x[x < 15]"
   ]
  },
  {
   "cell_type": "markdown",
   "metadata": {},
   "source": [
    "and run the analysis again:"
   ]
  },
  {
   "cell_type": "code",
   "execution_count": 78,
   "metadata": {},
   "outputs": [
    {
     "name": "stdout",
     "output_type": "stream",
     "text": [
      "100: S=701164.526040, a=10.1984, b=17.9652\n",
      "200: S=551573.224563, a=8.4945, b=30.0416\n",
      "300: S=468482.678960, a=7.2246, b=39.0419\n",
      "400: S=422330.003635, a=6.2781, b=45.7497\n",
      "500: S=396694.482479, a=5.5727, b=50.7489\n",
      "600: S=382455.222452, a=5.0470, b=54.4748\n",
      "700: S=374546.020025, a=4.6552, b=57.2516\n",
      "800: S=370152.850512, a=4.3632, b=59.3211\n",
      "900: S=367712.662827, a=4.1456, b=60.8635\n",
      "1000: S=366357.259644, a=3.9834, b=62.0131\n",
      "1100: S=365604.400428, a=3.8625, b=62.8698\n",
      "1200: S=365186.224489, a=3.7724, b=63.5083\n",
      "1300: S=364953.948503, a=3.7052, b=63.9841\n",
      "1400: S=364824.930718, a=3.6552, b=64.3388\n",
      "1500: S=364753.267740, a=3.6179, b=64.6031\n",
      "1600: S=364713.462512, a=3.5901, b=64.8001\n",
      "1700: S=364691.352683, a=3.5694, b=64.9469\n",
      "1800: S=364679.071769, a=3.5540, b=65.0563\n",
      "1900: S=364672.250331, a=3.5425, b=65.1379\n",
      "2000: S=364668.461361, a=3.5339, b=65.1987\n",
      "2100: S=364666.356776, a=3.5275, b=65.2440\n",
      "2200: S=364665.187784, a=3.5227, b=65.2777\n",
      "2300: S=364664.538466, a=3.5192, b=65.3029\n",
      "2400: S=364664.177803, a=3.5165, b=65.3216\n",
      "2500: S=364663.977472, a=3.5146, b=65.3356\n",
      "2600: S=364663.866198, a=3.5131, b=65.3460\n",
      "2700: S=364663.804391, a=3.5120, b=65.3538\n",
      "2800: S=364663.770060, a=3.5112, b=65.3596\n",
      "2900: S=364663.750991, a=3.5106, b=65.3639\n",
      "3000: S=364663.740399, a=3.5101, b=65.3671\n",
      "3100: S=364663.734516, a=3.5098, b=65.3695\n"
     ]
    }
   ],
   "source": [
    "a_, b_ = linear_model(x_, y_)"
   ]
  },
  {
   "cell_type": "code",
   "execution_count": 79,
   "metadata": {
    "scrolled": false
   },
   "outputs": [
    {
     "name": "stdout",
     "output_type": "stream",
     "text": [
      "a=3.462412091384354, b=65.54483381549923\n"
     ]
    },
    {
     "data": {
      "image/png": "[encoded data removed]",
      "text/plain": [
       "<matplotlib.figure.Figure at 0x116cdefd0>"
      ]
     },
     "metadata": {},
     "output_type": "display_data"
    }
   ],
   "source": [
    "plot_linear_model(a, b, x, y)\n",
    "plt.plot(x_, b_ + a_ * x_,  ls='--', color='g')\n",
    "plt.legend(['full data', 'without >15 aces']);"
   ]
  },
  {
   "cell_type": "markdown",
   "metadata": {},
   "source": [
    "It seems that in this case the outliers did not have a very significant effect on the analysis: we got similar values for $a$ and $b$.\n",
    "\n",
    "There are many different ways to handle outliers in linear models, see for examples `statsmodels`'s [robust linear models](http://www.statsmodels.org/stable/rlm.html) module."
   ]
  },
  {
   "cell_type": "markdown",
   "metadata": {},
   "source": [
    "# Exercise: Federer\n",
    "\n",
    "Redo the analysis but for Roger Federer and instead of using aces, use double faults."
   ]
  },
  {
   "cell_type": "code",
   "execution_count": null,
   "metadata": {},
   "outputs": [],
   "source": []
  },
  {
   "cell_type": "markdown",
   "metadata": {},
   "source": [
    "# Off-the-shelf solutions"
   ]
  },
  {
   "cell_type": "markdown",
   "metadata": {},
   "source": [
    "Let's see how we could have done this with Python's packages instead of reinventing the wheel.\n",
    "\n",
    "We'll work with NumPy and SciPy, the numerical and scientific backbone of scientific Python.\n",
    "\n",
    "NumPy and SciPy don't like NaNs, which we have a lot. We can fliter them with `np.isfinite` or just by taking only the non-negative values (NaN are not negative but are also not non-negative)."
   ]
  },
  {
   "cell_type": "code",
   "execution_count": 43,
   "metadata": {},
   "outputs": [],
   "source": [
    "y = y[x>=0]\n",
    "x = x[x>=0]"
   ]
  },
  {
   "cell_type": "markdown",
   "metadata": {},
   "source": [
    "## NumPy\n",
    "\n",
    "First method is NumPy's `polyfit` which fits a polynomial of specified degree to the data; in this case we want degree one. It returns the coefficients of the polynomial, which we could feed to `np.poly1d` to create a callable polynomial object."
   ]
  },
  {
   "cell_type": "code",
   "execution_count": 44,
   "metadata": {},
   "outputs": [
    {
     "name": "stdout",
     "output_type": "stream",
     "text": [
      "3.46152962272 65.5515796967\n"
     ]
    }
   ],
   "source": [
    "a_np, b_np = np.polyfit(x, y, 1)\n",
    "print(a_np, b_np)"
   ]
  },
  {
   "cell_type": "markdown",
   "metadata": {},
   "source": [
    "Note how much faster NumPy does it.\n",
    "This is because under-the-hood NumPy calls native code (C/Fortran).\n",
    "The main drain of calculation time is probably the `while` loop in `linear_model` as each iteration performs redundent type check etc."
   ]
  },
  {
   "cell_type": "code",
   "execution_count": 23,
   "metadata": {},
   "outputs": [
    {
     "name": "stdout",
     "output_type": "stream",
     "text": [
      "1.35 s ± 0 ns per loop (mean ± std. dev. of 1 run, 1 loop each)\n",
      "162 µs ± 8.99 µs per loop (mean ± std. dev. of 7 runs, 10000 loops each)\n"
     ]
    }
   ],
   "source": [
    "%timeit -n 1 -r 1 linear_model(x, y)\n",
    "%timeit np.polyfit(x, y, 1)"
   ]
  },
  {
   "cell_type": "markdown",
   "metadata": {},
   "source": [
    "## SciPy\n",
    "Next is SciPy's statistics package with its linear regression method, which basically uses the same method `polyfit` does (i.e. exact same result) but then also calculates some statistics."
   ]
  },
  {
   "cell_type": "code",
   "execution_count": 45,
   "metadata": {},
   "outputs": [
    {
     "name": "stdout",
     "output_type": "stream",
     "text": [
      "3.46152962272 65.5515796967\n"
     ]
    }
   ],
   "source": [
    "res = scipy.stats.linregress(x, y)\n",
    "print(res.slope, res.intercept)"
   ]
  },
  {
   "cell_type": "markdown",
   "metadata": {},
   "source": [
    "The P-value gives the probability to get this data if the null hypothesis is right; in this case, the null hypothesis is $a=0$.\n",
    "\n",
    "The r-value is the [coefficient of correlation](https://en.wikipedia.org/wiki/Correlation_coefficient)."
   ]
  },
  {
   "cell_type": "code",
   "execution_count": 46,
   "metadata": {},
   "outputs": [
    {
     "name": "stdout",
     "output_type": "stream",
     "text": [
      "r=0.4235692130211395, P=5.27863045781742e-26\n"
     ]
    }
   ],
   "source": [
    "print('r={}, P={}'.format(res.rvalue, res.pvalue))"
   ]
  },
  {
   "cell_type": "markdown",
   "metadata": {},
   "source": [
    "# statsmodels\n",
    "\n",
    "This package focuses on statistical modeling, and as such, provides a full statistical analysis of the linear model.\n",
    "\n",
    "Note that here `y` comes before `x`."
   ]
  },
  {
   "cell_type": "code",
   "execution_count": 58,
   "metadata": {},
   "outputs": [],
   "source": [
    "import statsmodels.api as sm"
   ]
  },
  {
   "cell_type": "code",
   "execution_count": 49,
   "metadata": {},
   "outputs": [
    {
     "name": "stdout",
     "output_type": "stream",
     "text": [
      "                               OLS Regression Results                               \n",
      "====================================================================================\n",
      "Dep. Variable:     player1 total points won   R-squared:                       0.179\n",
      "Model:                                  OLS   Adj. R-squared:                  0.178\n",
      "Method:                       Least Squares   F-statistic:                     123.1\n",
      "Date:                      Sun, 08 Apr 2018   Prob (F-statistic):           5.28e-26\n",
      "Time:                              12:36:33   Log-Likelihood:                -2641.6\n",
      "No. Observations:                       565   AIC:                             5287.\n",
      "Df Residuals:                           563   BIC:                             5296.\n",
      "Df Model:                                 1                                         \n",
      "Covariance Type:                  nonrobust                                         \n",
      "================================================================================\n",
      "                   coef    std err          t      P>|t|      [0.025      0.975]\n",
      "--------------------------------------------------------------------------------\n",
      "const           65.5516      2.018     32.482      0.000      61.588      69.516\n",
      "player1 aces     3.4615      0.312     11.095      0.000       2.849       4.074\n",
      "==============================================================================\n",
      "Omnibus:                       91.406   Durbin-Watson:                   1.332\n",
      "Prob(Omnibus):                  0.000   Jarque-Bera (JB):              152.959\n",
      "Skew:                           0.993   Prob(JB):                     6.10e-34\n",
      "Kurtosis:                       4.597   Cond. No.                         12.1\n",
      "==============================================================================\n",
      "\n",
      "Warnings:\n",
      "[1] Standard Errors assume that the covariance matrix of the errors is correctly specified.\n"
     ]
    }
   ],
   "source": [
    "X = sm.add_constant(x) # for intercept\n",
    "results = sm.OLS(y, X).fit()\n",
    "print(results.summary())"
   ]
  },
  {
   "cell_type": "markdown",
   "metadata": {},
   "source": [
    "With `statsmodels` it is easy to use [generalized linear models](http://www.statsmodels.org/stable/glm.html) (GLM) to change the probability distribution.\n",
    "\n",
    "For example, since `y` is an integer, it might be better to use the Poisson distribution:"
   ]
  },
  {
   "cell_type": "code",
   "execution_count": 59,
   "metadata": {},
   "outputs": [
    {
     "name": "stdout",
     "output_type": "stream",
     "text": [
      "                    Generalized Linear Model Regression Results                     \n",
      "====================================================================================\n",
      "Dep. Variable:     player1 total points won   No. Observations:                  565\n",
      "Model:                                  GLM   Df Residuals:                      563\n",
      "Model Family:                       Poisson   Df Model:                            1\n",
      "Link Function:                          log   Scale:                             1.0\n",
      "Method:                                IRLS   Log-Likelihood:                -3869.1\n",
      "Date:                      Sun, 08 Apr 2018   Deviance:                       4223.3\n",
      "Time:                              12:38:50   Pearson chi2:                 4.43e+03\n",
      "No. Iterations:                           4                                         \n",
      "================================================================================\n",
      "                   coef    std err          z      P>|z|      [0.025      0.975]\n",
      "--------------------------------------------------------------------------------\n",
      "const            4.2160      0.009    489.118      0.000       4.199       4.233\n",
      "player1 aces     0.0386      0.001     31.381      0.000       0.036       0.041\n",
      "================================================================================\n"
     ]
    }
   ],
   "source": [
    "poi_results = sm.GLM(y, X, family=sm.families.Poisson()).fit()\n",
    "print(poi_results.summary())"
   ]
  },
  {
   "cell_type": "markdown",
   "metadata": {},
   "source": [
    "The log-likelihhod using Poisson is much lower than using normal distribution, which means that it is probably a better choice. The coefficients, though, are on a different scale because when using the Poisson distribution we assumed that $\\log(y) = ax + b$ rather than $y=ax+b$ (here the $\\log$ function is the *link function*)."
   ]
  },
  {
   "cell_type": "code",
   "execution_count": 60,
   "metadata": {},
   "outputs": [
    {
     "name": "stdout",
     "output_type": "stream",
     "text": [
      "Nomral  a=3.462, b=65.552\n",
      "Poisson a=1.039, b=67.759\n"
     ]
    },
    {
     "data": {
      "image/png": "[encoded data removed]",
      "text/plain": [
       "<matplotlib.figure.Figure at 0x116fcd438>"
      ]
     },
     "metadata": {},
     "output_type": "display_data"
    }
   ],
   "source": [
    "plt.scatter(x, y, marker='.', alpha=0.75)\n",
    "x_ = x.sort_values()\n",
    "\n",
    "b, a = results.params\n",
    "yhat = b + a*x_\n",
    "plt.plot(x_, yhat, '-r')\n",
    "print(\"Nomral  a={:.3f}, b={:.3f}\".format(a, b))\n",
    "\n",
    "b, a = poi_results.params\n",
    "yhat = np.exp(a * x_ + b)\n",
    "plt.plot(x_, yhat, '-g')\n",
    "plt.xlabel('aces')\n",
    "plt.ylabel('total points won')\n",
    "print(\"Poisson a={:.3f}, b={:.3f}\".format(np.exp(a), np.exp(b)))"
   ]
  },
  {
   "cell_type": "markdown",
   "metadata": {},
   "source": [
    "This is interesting, because you can see that using the Poisson linear model, the effect of an additinal ace is roughly an additional point, not 3.5 points; the number of points won without aces is roughly the same.\n",
    "\n",
    "The plots are very similar for the majority of the range, so the nomral model was probably pretty good as a predictive model, but not so much as descriptive model.\n",
    "Moreover, at the ends of the range (<2.5 aces, >12.5 aces) the Poisson model will probably outperform the normal model."
   ]
  },
  {
   "cell_type": "markdown",
   "metadata": {},
   "source": [
    "# seaborn"
   ]
  },
  {
   "cell_type": "markdown",
   "metadata": {},
   "source": [
    "Another important package is `seaborn`, a statistical visualization package, which allows us to rapidly create statistical visualization (!).\n",
    "\n",
    "For example, `regplot` is a function for creating a scatter plot with a linear model, including a confidence interval around the line (generated using bootstrap, a resampling approach, where you basically randomly choose data points many times and see where does the linear model fall in most of the cases)."
   ]
  },
  {
   "cell_type": "code",
   "execution_count": 61,
   "metadata": {},
   "outputs": [
    {
     "data": {
      "image/png": "[encoded data removed]",
      "text/plain": [
       "<matplotlib.figure.Figure at 0x116d9e278>"
      ]
     },
     "metadata": {},
     "output_type": "display_data"
    }
   ],
   "source": [
    "fig, axes = plt.subplots(1, 2, figsize=(10,4))\n",
    "sns.regplot('player1 double faults', 'player1 total points won', data=df, ax=axes[0])\n",
    "sns.regplot('player1 aces', 'player1 total points won', data=df, ax=axes[1])\n",
    "fig.tight_layout()"
   ]
  },
  {
   "cell_type": "markdown",
   "metadata": {},
   "source": [
    "We can also plot the joint distribution of two variables to see how they are distributed together:"
   ]
  },
  {
   "cell_type": "code",
   "execution_count": 62,
   "metadata": {},
   "outputs": [
    {
     "data": {
      "image/png": "[encoded data removed]",
      "text/plain": [
       "<matplotlib.figure.Figure at 0x116bf3748>"
      ]
     },
     "metadata": {},
     "output_type": "display_data"
    }
   ],
   "source": [
    "sns.jointplot('player1 double faults', 'player1 aces', data=df);"
   ]
  },
  {
   "cell_type": "markdown",
   "metadata": {},
   "source": [
    "Of course there are many more twists to add, such as regularization, outlier detection, and linking functions - we'll do the latter in the next session when we deal with the classical classification method, *logistic regression*."
   ]
  },
  {
   "cell_type": "markdown",
   "metadata": {},
   "source": [
    "# References\n",
    "\n",
    "- Pawitan Y, 2001. *In all likelihood: statistical modelling and inference using likelihood*. **Ch. 6.1**.\n",
    "- Allen B. Downey, 2014. [Think Stats: Probability and Statistics for Programmers.](http://www.greenteapress.com/thinkstats2/index.html) (Available for free online).\n",
    "- Cyrille Rossant, 2014. [IPython Interactive Computing and Visualization Cookbook](https://ipython-books.github.io/cookbook/) (the Tennis data is borrowed from there).\n",
    "- Illustrate distributions using the [Seeing Theory](http://students.brown.edu/seeing-theory/probability-distributions/index.html#section2) webpage.\n",
    "- Explore how regression is affected by outliers using the [Seeing Theory](http://students.brown.edu/seeing-theory/regression-analysis/index.html#section1) webpage."
   ]
  },
  {
   "cell_type": "markdown",
   "metadata": {},
   "source": [
    "# Colophon\n",
    "This notebook was written by [Yoav Ram](http://python.yoavram.com) and is part of the [_Scientific Computing with Python_](https://scicompy.yoavram.com/) course at IDC Herzliya.\n",
    "\n",
    "The notebook was written using [Python](http://python.org/) 3.6.5.\n",
    "Dependencies listed in [environment.yml](../environment.yml).\n",
    "\n",
    "This work is licensed under a CC BY-NC-SA 4.0 International License.\n",
    "\n",
    "![Python logo](https://www.python.org/static/community_logos/python-logo.png)"
   ]
  }
 ],
 "metadata": {
  "kernelspec": {
   "display_name": "Python 3",
   "language": "python",
   "name": "python3"
  },
  "language_info": {
   "codemirror_mode": {
    "name": "ipython",
    "version": 3
   },
   "file_extension": ".py",
   "mimetype": "text/x-python",
   "name": "python",
   "nbconvert_exporter": "python",
   "pygments_lexer": "ipython3",
   "version": "3.6.4"
  }
 },
 "nbformat": 4,
 "nbformat_minor": 2
}
